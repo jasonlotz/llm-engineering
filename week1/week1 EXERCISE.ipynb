{
 "cells": [
  {
   "cell_type": "markdown",
   "id": "fe12c203-e6a6-452c-a655-afb8a03a4ff5",
   "metadata": {},
   "source": [
    "# End of week 1 exercise\n",
    "\n",
    "To demonstrate your familiarity with OpenAI API, and also Ollama, build a tool that takes a technical question,  \n",
    "and responds with an explanation. This is a tool that you will be able to use yourself during the course!"
   ]
  },
  {
   "cell_type": "code",
   "execution_count": 11,
   "id": "c1070317-3ed9-4659-abe3-828943230e03",
   "metadata": {},
   "outputs": [],
   "source": [
    "# imports\n",
    "import os\n",
    "import requests\n",
    "from dotenv import load_dotenv\n",
    "from bs4 import BeautifulSoup\n",
    "from IPython.display import Markdown, display, update_display\n",
    "from openai import OpenAI"
   ]
  },
  {
   "cell_type": "code",
   "execution_count": 19,
   "id": "4a456906-915a-4bfd-bb9d-57e505c5093f",
   "metadata": {},
   "outputs": [
    {
     "name": "stdout",
     "output_type": "stream",
     "text": [
      "\u001b[?2026h\u001b[?25l\u001b[1Gpulling manifest ⠋ \u001b[K\u001b[?25h\u001b[?2026l\u001b[?2026h\u001b[?25l\u001b[1Gpulling manifest ⠙ \u001b[K\u001b[?25h\u001b[?2026l\u001b[?2026h\u001b[?25l\u001b[1Gpulling manifest ⠹ \u001b[K\u001b[?25h\u001b[?2026l\u001b[?2026h\u001b[?25l\u001b[1Gpulling manifest ⠸ \u001b[K\u001b[?25h\u001b[?2026l\u001b[?2026h\u001b[?25l\u001b[1Gpulling manifest \u001b[K\n",
      "pulling dde5aa3fc5ff: 100% ▕██████████████████▏ 2.0 GB                         \u001b[K\n",
      "pulling 966de95ca8a6: 100% ▕██████████████████▏ 1.4 KB                         \u001b[K\n",
      "pulling fcc5a6bec9da: 100% ▕██████████████████▏ 7.7 KB                         \u001b[K\n",
      "pulling a70ff7e570d9: 100% ▕██████████████████▏ 6.0 KB                         \u001b[K\n",
      "pulling 56bb8bd477a5: 100% ▕██████████████████▏   96 B                         \u001b[K\n",
      "pulling 34bb5ab01051: 100% ▕██████████████████▏  561 B                         \u001b[K\n",
      "verifying sha256 digest \u001b[K\n",
      "writing manifest \u001b[K\n",
      "success \u001b[K\u001b[?25h\u001b[?2026l\n"
     ]
    }
   ],
   "source": [
    "# constants\n",
    "\n",
    "MODEL_GPT = 'gpt-4o-mini'\n",
    "MODEL_LLAMA = 'llama3.2'\n",
    " \n",
    "OLLAMA_API = \"http://localhost:11434/api/chat\"\n",
    "HEADERS = {\"Content-Type\": \"application/json\"}\n",
    "\n",
    "!ollama pull llama3.2"
   ]
  },
  {
   "cell_type": "code",
   "execution_count": 4,
   "id": "a8d7923c-5f28-4c30-8556-342d7c8497c1",
   "metadata": {},
   "outputs": [
    {
     "name": "stdout",
     "output_type": "stream",
     "text": [
      "API key found and looks good so far!\n"
     ]
    }
   ],
   "source": [
    "# set up environment\n",
    "load_dotenv(override=True)\n",
    "api_key = os.getenv('OPENAI_API_KEY')\n",
    "\n",
    "# Check the key\n",
    "\n",
    "if not api_key:\n",
    "    print(\"No API key was found - please head over to the troubleshooting notebook in this folder to identify & fix!\")\n",
    "elif not api_key.startswith(\"sk-proj-\"):\n",
    "    print(\"An API key was found, but it doesn't start sk-proj-; please check you're using the right key - see troubleshooting notebook\")\n",
    "elif api_key.strip() != api_key:\n",
    "    print(\"An API key was found, but it looks like it might have space or tab characters at the start or end - please remove them - see troubleshooting notebook\")\n",
    "else:\n",
    "    print(\"API key found and looks good so far!\")"
   ]
  },
  {
   "cell_type": "code",
   "execution_count": 5,
   "id": "3f0d0137-52b0-47a8-81a8-11a90a010798",
   "metadata": {},
   "outputs": [],
   "source": [
    "# here is the question; type over this to ask something new\n",
    "\n",
    "question = \"\"\"\n",
    "Please explain what this code does and why:\n",
    "yield from {book.get(\"author\") for book in books if book.get(\"author\")}\n",
    "\"\"\""
   ]
  },
  {
   "cell_type": "code",
   "execution_count": 12,
   "id": "60ce7000-a4a5-4cce-a261-e75ef45063b4",
   "metadata": {},
   "outputs": [
    {
     "data": {
      "text/markdown": [
       "The code you've provided is a Python expression that uses several concepts and constructs from the language. Let's break it down step by step:\n",
       "\n",
       "1. **Set Comprehension**: \n",
       "   - `{book.get(\"author\") for book in books if book.get(\"author\")}` is a set comprehension. This creates a set—a collection of unique elements—by iterating over the `books` collection.\n",
       "   - `book.get(\"author\")` retrieves the value associated with the key `\"author\"` from each `book` dictionary. The `get` method is used instead of directly accessing the dictionary with square brackets to avoid a `KeyError` if the `\"author\"` key does not exist.\n",
       "\n",
       "2. **Filtering**:\n",
       "   - The `if book.get(\"author\")` condition filters out any `book` dictionaries that do not have an `\"author\"` key or have an `author` value that is falsy (which in Python would include `None`, empty strings, etc.). Only `book` dictionaries with valid, non-empty author values will contribute to the resulting set.\n",
       "\n",
       "3. **Yielding**:\n",
       "   - The `yield from` statement is used in a generator function to yield all values from the iterable (in this case, the set created by the comprehension). \n",
       "   - This means that all unique authors that were gathered from the `books` collection will be yielded one by one when this generator is iterated over.\n",
       "\n",
       "### Purpose of the Code\n",
       "\n",
       "The purpose of this code is to create a generator that yields all unique authors from the `books` collection where an author is specified. It ensures that only non-empty author names are included and that there are no duplicates because sets inherently prevent duplicate entries.\n",
       "\n",
       "### Example\n",
       "\n",
       "For example, if you have a list of books structured like this:\n",
       "\n",
       "python\n",
       "books = [\n",
       "    {\"title\": \"Book 1\", \"author\": \"Author A\"},\n",
       "    {\"title\": \"Book 2\", \"author\": \"Author B\"},\n",
       "    {\"title\": \"Book 3\", \"author\": None},\n",
       "    {\"title\": \"Book 4\", \"author\": \"Author A\"},\n",
       "]\n",
       "\n",
       "\n",
       "The output of the code will be:\n",
       "- \"Author A\"\n",
       "- \"Author B\"\n",
       "\n",
       "When you iterate over this generator, you would retrieve each unique author specified in the books without duplicates and ignoring any books that do not specify an author."
      ],
      "text/plain": [
       "<IPython.core.display.Markdown object>"
      ]
     },
     "metadata": {},
     "output_type": "display_data"
    }
   ],
   "source": [
    "# Get gpt-4o-mini to answer, with streaming\n",
    "openai = OpenAI()\n",
    "\n",
    "stream = openai.chat.completions.create(model=MODEL_GPT, messages=[{\"role\":\"user\", \"content\":question}], stream = True)\n",
    "response = \"\"\n",
    "display_handle = display(Markdown(\"\"), display_id=True)\n",
    "for chunk in stream:\n",
    "    response += chunk.choices[0].delta.content or ''\n",
    "    response = response.replace(\"```\",\"\").replace(\"markdown\", \"\")\n",
    "    update_display(Markdown(response), display_id=display_handle.display_id)"
   ]
  },
  {
   "cell_type": "code",
   "execution_count": 22,
   "id": "8f7c8ea8-4082-4ad0-8751-3301adcf6538",
   "metadata": {},
   "outputs": [
    {
     "name": "stdout",
     "output_type": "stream",
     "text": [
      "This line of code is written in Python and utilizes a feature called asynchronous iteration, specifically `yield from`.\n",
      "\n",
      "Here's what it does:\n",
      "\n",
      "- It iterates over an iterable collection (`books`) containing dictionaries where each dictionary has the key `\"author\"`.\n",
      "\n",
      "- For each dictionary in the collection, it yields the value associated with the key `\"author\"`.\n",
      "\n",
      "However, there is a small issue. The original code seems to be trying to use `yield from` directly on a dictionary comprehension, which is not allowed in Python.\n",
      "\n",
      "Here's how you could rewrite this using a list comprehension instead:\n",
      "\n",
      "```python\n",
      "authors = [book[\"author\"] for book in books if \"author\" in book]\n",
      "```\n",
      "\n",
      "Or, more concisely, with `dict.get()` to avoid a KeyError:\n",
      "\n",
      "```python\n",
      "authors = [book.get(\"author\") for book in books if book.get(\"author\") is not None]\n",
      "```\n",
      "\n",
      "`yield from` can be used inside an asynchronous function or a coroutine when you want to delegate some of its execution to another generator expression. But here, it seems like we're just iterating over some data, so the `yield from` part could potentially be removed.\n",
      "\n",
      "The reason for using `yield from` in this case (if that's actually what was intended) would likely have been to avoid creating a list of all authors at once and instead to yield them one at a time. This can be more memory-efficient when dealing with large datasets:\n",
      "\n",
      "```python\n",
      "async def get_authors():\n",
      "    async for book in books:\n",
      "        yield book[\"author\"]\n",
      "```\n",
      "\n",
      "However, the `yield from` syntax was introduced in Python 3.3 as part of the asynchronous programming features and is not necessary here.\n"
     ]
    }
   ],
   "source": [
    "# Get Llama 3.2 to answer\n",
    "messages = [\n",
    "    {\"role\": \"user\", \"content\": question}\n",
    "] \n",
    "\n",
    "payload = {\n",
    "        \"model\": MODEL_LLAMA,\n",
    "        \"messages\": messages,\n",
    "        \"stream\": False\n",
    "    }\n",
    "\n",
    "response = requests.post(OLLAMA_API, json=payload, headers=HEADERS)\n",
    "print(response.json()['message']['content'])"
   ]
  },
  {
   "cell_type": "code",
   "execution_count": null,
   "id": "57e71f83-6986-4652-baf2-31e85e0fc5bc",
   "metadata": {},
   "outputs": [],
   "source": []
  }
 ],
 "metadata": {
  "kernelspec": {
   "display_name": "Python 3 (ipykernel)",
   "language": "python",
   "name": "python3"
  },
  "language_info": {
   "codemirror_mode": {
    "name": "ipython",
    "version": 3
   },
   "file_extension": ".py",
   "mimetype": "text/x-python",
   "name": "python",
   "nbconvert_exporter": "python",
   "pygments_lexer": "ipython3",
   "version": "3.11.13"
  }
 },
 "nbformat": 4,
 "nbformat_minor": 5
}
